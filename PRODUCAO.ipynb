{
 "cells": [
  {
   "cell_type": "code",
   "execution_count": 250,
   "metadata": {},
   "outputs": [],
   "source": [
    "import pandas as pd\n",
    "import seaborn as sb\n",
    "import matplotlib.pyplot as plt\n",
    "import numpy as np\n",
    "low_memory=False\n",
    "\n",
    "%matplotlib inline\n",
    "pd.options.display.max_columns = 80\n",
    "pd.options.display.max_rows = 90"
   ]
  },
  {
   "cell_type": "code",
   "execution_count": 252,
   "metadata": {},
   "outputs": [],
   "source": [
    "\n",
    "producao = pd.ExcelFile('producao.xlsx')\n",
    "arquivo = pd.read_excel(producao, sheet_name='CONTROLE')"
   ]
  },
  {
   "cell_type": "code",
   "execution_count": 271,
   "metadata": {},
   "outputs": [
    {
     "data": {
      "text/plain": [
       "Text(0.5, 1.0, 'Projetos em andamendo com maior numero de peças')"
      ]
     },
     "execution_count": 271,
     "metadata": {},
     "output_type": "execute_result"
    },
    {
     "data": {
      "image/png": "[encoded data removed]",
      "text/plain": [
       "<Figure size 720x720 with 1 Axes>"
      ]
     },
     "metadata": {
      "needs_background": "light"
     },
     "output_type": "display_data"
    }
   ],
   "source": [
    "arquivo.query('ENTREGA == \"NOK\"')['P.O.:'].value_counts().sort_values().tail(10).plot(kind='barh',figsize=(10,10))\n",
    "plt.title('Projetos em andamendo com maior numero de peças')"
   ]
  },
  {
   "cell_type": "code",
   "execution_count": 254,
   "metadata": {},
   "outputs": [
    {
     "name": "stdout",
     "output_type": "stream",
     "text": [
      "HORAS DE TORNO\n",
      "O torno está ocupado por um total de 35 dias\n"
     ]
    }
   ],
   "source": [
    "print('HORAS DE TORNO')\n",
    "arquivo.query('ENTREGA == \"NOK\"')['TORNO'].sum()/60\n",
    "totalt=(arquivo.query('ENTREGA == \"NOK\"')['TORNO'].sum()/60)/8\n",
    "print(f'O torno está ocupado por um total de {int(totalt)} dias')"
   ]
  },
  {
   "cell_type": "code",
   "execution_count": 255,
   "metadata": {},
   "outputs": [
    {
     "name": "stdout",
     "output_type": "stream",
     "text": [
      "HORAS DE FRESA\n",
      "A fresadora está ocupado por um total de 44 dias\n"
     ]
    }
   ],
   "source": [
    "print('HORAS DE FRESA')\n",
    "arquivo.query('ENTREGA == \"NOK\"')['FRESA'].sum()/60\n",
    "totalf=(arquivo.query('ENTREGA == \"NOK\"')['FRESA'].sum()/60)/8\n",
    "print(f'A fresadora está ocupado por um total de {int(totalf)} dias')"
   ]
  },
  {
   "cell_type": "code",
   "execution_count": 256,
   "metadata": {
    "scrolled": true
   },
   "outputs": [
    {
     "name": "stdout",
     "output_type": "stream",
     "text": [
      "HORAS DE PROGRAMAÇÃO\n",
      "A programação está ocupado por um total de 31 dias\n"
     ]
    }
   ],
   "source": [
    "print('HORAS DE PROGRAMAÇÃO')\n",
    "arquivo.query('ENTREGA == \"NOK\"')['PROG.'].sum()/60\n",
    "totalp=(arquivo.query('ENTREGA == \"NOK\"')['PROG.'].sum()/60)/8\n",
    "print(f'A programação está ocupado por um total de {int(totalp)} dias')"
   ]
  },
  {
   "cell_type": "code",
   "execution_count": 257,
   "metadata": {},
   "outputs": [
    {
     "name": "stdout",
     "output_type": "stream",
     "text": [
      "HORAS DE AJUSTAGEM\n",
      "A Ajustagem está ocupado por um total de 25 dias\n"
     ]
    }
   ],
   "source": [
    "print('HORAS DE AJUSTAGEM')\n",
    "arquivo.query('ENTREGA == \"NOK\"')['AJUST'].sum()/60\n",
    "totala=(arquivo.query('ENTREGA == \"NOK\"')['AJUST'].sum()/60)/8\n",
    "print(f'A Ajustagem está ocupado por um total de {int(totala)} dias')"
   ]
  },
  {
   "cell_type": "code",
   "execution_count": 258,
   "metadata": {},
   "outputs": [
    {
     "name": "stdout",
     "output_type": "stream",
     "text": [
      "HORAS DE CTX\n",
      "A CTX está ocupado por um total de 5 dias\n"
     ]
    }
   ],
   "source": [
    "print('HORAS DE CTX')\n",
    "arquivo.query('ENTREGA == \"NOK\"')['CTX'].sum()/60\n",
    "totalc=(arquivo.query('ENTREGA == \"NOK\"')['CTX'].sum()/60)/8\n",
    "print(f'A CTX está ocupado por um total de {int(totalc)} dias')"
   ]
  },
  {
   "cell_type": "code",
   "execution_count": 259,
   "metadata": {},
   "outputs": [
    {
     "name": "stdout",
     "output_type": "stream",
     "text": [
      "HORAS DE SOLDA\n",
      "A Solda está ocupado por um total de 18 dias\n"
     ]
    }
   ],
   "source": [
    "print('HORAS DE SOLDA')\n",
    "arquivo.query('ENTREGA == \"NOK\"')['SOLDA'].sum()/60\n",
    "totals=(arquivo.query('ENTREGA == \"NOK\"')['SOLDA'].sum()/60)/8\n",
    "print(f'A Solda está ocupado por um total de {int(totals)} dias')"
   ]
  },
  {
   "cell_type": "code",
   "execution_count": 260,
   "metadata": {},
   "outputs": [
    {
     "name": "stdout",
     "output_type": "stream",
     "text": [
      "HORAS DE TRATAMENTO SUPERFICIAL\n",
      "O tratamento superficial está ocupado por um total de 1 dias\n"
     ]
    }
   ],
   "source": [
    "print('HORAS DE TRATAMENTO SUPERFICIAL')\n",
    "arquivo.query('ENTREGA == \"NOK\"')['T. SUP'].sum()/60\n",
    "totalts=(arquivo.query('ENTREGA == \"NOK\"')['T. SUP'].sum()/60)/8\n",
    "print(f'O tratamento superficial está ocupado por um total de {int(totalts)} dias')"
   ]
  },
  {
   "cell_type": "code",
   "execution_count": 261,
   "metadata": {},
   "outputs": [
    {
     "name": "stdout",
     "output_type": "stream",
     "text": [
      "HORAS DE MATÉRIA PRIMA\n",
      "A preparação de matéria prima está ocupado por um total de 17 dias\n"
     ]
    }
   ],
   "source": [
    "print('HORAS DE MATÉRIA PRIMA')\n",
    "arquivo.query('ENTREGA == \"NOK\"')['MP'].sum()/60\n",
    "totalm=(arquivo.query('ENTREGA == \"NOK\"')['MP'].sum()/60)/8\n",
    "print(f'A preparação de matéria prima está ocupado por um total de {int(totalm)} dias')"
   ]
  },
  {
   "cell_type": "code",
   "execution_count": 262,
   "metadata": {},
   "outputs": [
    {
     "name": "stdout",
     "output_type": "stream",
     "text": [
      "HORAS DE RETIFICA/AFIAÇÃO\n",
      "A Retificadora e afiadora está ocupado por um total de 2 dias\n"
     ]
    }
   ],
   "source": [
    "print('HORAS DE RETIFICA/AFIAÇÃO')\n",
    "arquivo.query('ENTREGA == \"NOK\"')['RETIF. / AFIA.'].sum()/60\n",
    "totalra=(arquivo.query('ENTREGA == \"NOK\"')['RETIF. / AFIA.'].sum()/60)/8\n",
    "print(f'A Retificadora e afiadora está ocupado por um total de {int(totalra)} dias')"
   ]
  },
  {
   "cell_type": "code",
   "execution_count": 263,
   "metadata": {},
   "outputs": [
    {
     "name": "stdout",
     "output_type": "stream",
     "text": [
      "HORAS DE PINTURA\n",
      "A Pintura está ocupado por um total de 7 dias\n"
     ]
    }
   ],
   "source": [
    "print('HORAS DE PINTURA')\n",
    "arquivo.query('ENTREGA == \"NOK\"')['PINT.'].sum()/60\n",
    "totalpi=(arquivo.query('ENTREGA == \"NOK\"')['PINT.'].sum()/60)/8\n",
    "print(f'A Pintura está ocupado por um total de {int(totalpi)} dias')"
   ]
  },
  {
   "cell_type": "code",
   "execution_count": 264,
   "metadata": {},
   "outputs": [
    {
     "name": "stdout",
     "output_type": "stream",
     "text": [
      "HORAS DE PROJETO\n",
      "O projeto está ocupado por um total de 47 dias\n"
     ]
    }
   ],
   "source": [
    "print('HORAS DE PROJETO')\n",
    "arquivo.query('ENTREGA == \"NOK\"')['PROJETO'].sum()/60\n",
    "totalpr=(arquivo.query('ENTREGA == \"NOK\"')['PROJETO'].sum()/60)/8\n",
    "print(f'O projeto está ocupado por um total de {int(totalpr)} dias')"
   ]
  },
  {
   "cell_type": "code",
   "execution_count": 265,
   "metadata": {},
   "outputs": [
    {
     "name": "stdout",
     "output_type": "stream",
     "text": [
      "HORAS DE INSPEÇÃO\n",
      "A Inspeção está ocupado por um total de 23 dias\n"
     ]
    }
   ],
   "source": [
    "print('HORAS DE INSPEÇÃO')\n",
    "arquivo.query('ENTREGA == \"NOK\"')['INSP'].sum()/60\n",
    "totalin=(arquivo.query('ENTREGA == \"NOK\"')['INSP'].sum()/60)/8\n",
    "print(f'A Inspeção está ocupado por um total de {int(totalin)} dias')"
   ]
  },
  {
   "cell_type": "code",
   "execution_count": 272,
   "metadata": {},
   "outputs": [
    {
     "data": {
      "text/plain": [
       "Text(0, 0.5, 'DIAS')"
      ]
     },
     "execution_count": 272,
     "metadata": {},
     "output_type": "execute_result"
    },
    {
     "data": {
      "image/png": "[encoded data removed]",
      "text/plain": [
       "<Figure size 1080x720 with 1 Axes>"
      ]
     },
     "metadata": {
      "needs_background": "light"
     },
     "output_type": "display_data"
    }
   ],
   "source": [
    "a=(totalf,totalt,totalp,totala,totalc,totals,totalts,totalm,totalra,totalpi,totalpr,totalin)\n",
    "b=('Fresa','Torno','Progamção','Ajustagem','CTX','Solda','T.S.','MP','Retifica','Pintura','Projeto','Inspeção')\n",
    "plt.figure(figsize=(15, 10)) \n",
    "plt.bar(b,a)\n",
    "plt.title('OCUPAÇÃO DOS SETORES EM DIAS')\n",
    "plt.xlabel('SETOR')\n",
    "plt.ylabel('DIAS')"
   ]
  },
  {
   "cell_type": "code",
   "execution_count": 273,
   "metadata": {},
   "outputs": [
    {
     "data": {
      "text/plain": [
       "Text(0, 0.5, 'Quantidade')"
      ]
     },
     "execution_count": 273,
     "metadata": {},
     "output_type": "execute_result"
    },
    {
     "data": {
      "image/png": "[encoded data removed]",
      "text/plain": [
       "<Figure size 1080x720 with 1 Axes>"
      ]
     },
     "metadata": {
      "needs_background": "light"
     },
     "output_type": "display_data"
    }
   ],
   "source": [
    "k={}\n",
    "for lead,quant in arquivo.query('ENTREGA == \"NOK\"')['LEAD TIME'].value_counts().items():\n",
    "    k[lead]=quant\n",
    "h=[]\n",
    "j=[]\n",
    "\n",
    "for x in sorted(k):\n",
    "    if x<1:\n",
    "        h.append(x)\n",
    "        j.append(k[x])\n",
    "        \n",
    "plt.figure(figsize=(15, 10))        \n",
    "plt.bar(h,j,color='red')\n",
    "plt.title('Quantidade de peças atrasadas')\n",
    "plt.xlabel('Atraso em dias')\n",
    "plt.ylabel('Quantidade')\n"
   ]
  },
  {
   "cell_type": "code",
   "execution_count": 275,
   "metadata": {},
   "outputs": [
    {
     "data": {
      "text/plain": [
       "Text(0, 0.5, 'QUANTIDADE')"
      ]
     },
     "execution_count": 275,
     "metadata": {},
     "output_type": "execute_result"
    },
    {
     "data": {
      "image/png": "[encoded data removed]",
      "text/plain": [
       "<Figure size 1440x720 with 1 Axes>"
      ]
     },
     "metadata": {
      "needs_background": "light"
     },
     "output_type": "display_data"
    }
   ],
   "source": [
    "k={}\n",
    "for lead,quant in arquivo.query('ENTREGA == \"OK\"')['PREVISAO'].value_counts().items():\n",
    "    k[lead]=quant\n",
    "h=[]\n",
    "j=[]\n",
    "\n",
    "for x in sorted(k):\n",
    "    \n",
    "        h.append(x)\n",
    "        j.append(k[x])\n",
    "        \n",
    "plt.figure(figsize=(20, 10))\n",
    "plt.bar(h,j,color='red',width=3)\n",
    "\n",
    "plt.title('QUANTIDADE DE PEÇAS FABRICADAS POR PERIODO')\n",
    "plt.xlabel('LINHA DO TEMPO')\n",
    "plt.ylabel('QUANTIDADE')\n",
    "\n",
    "\n"
   ]
  },
  {
   "cell_type": "code",
   "execution_count": null,
   "metadata": {},
   "outputs": [],
   "source": []
  }
 ],
 "metadata": {
  "kernelspec": {
   "display_name": "Python 3",
   "language": "python",
   "name": "python3"
  },
  "language_info": {
   "codemirror_mode": {
    "name": "ipython",
    "version": 3
   },
   "file_extension": ".py",
   "mimetype": "text/x-python",
   "name": "python",
   "nbconvert_exporter": "python",
   "pygments_lexer": "ipython3",
   "version": "3.7.3"
  }
 },
 "nbformat": 4,
 "nbformat_minor": 2
}
