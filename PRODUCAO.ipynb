{
 "cells": [
  {
   "cell_type": "code",
   "execution_count": 1,
   "metadata": {},
   "outputs": [],
   "source": [
    "import pandas as pd\n",
    "import seaborn as sb\n",
    "import matplotlib.pyplot as plt\n",
    "import numpy as np\n",
    "low_memory=False\n",
    "\n",
    "%matplotlib inline\n",
    "pd.options.display.max_columns = 80\n",
    "pd.options.display.max_rows = 90"
   ]
  },
  {
   "cell_type": "code",
   "execution_count": 2,
   "metadata": {},
   "outputs": [],
   "source": [
    "\n",
    "producao = pd.ExcelFile('producao.xlsx')\n",
    "arquivo = pd.read_excel(producao, sheet_name='CONTROLE')"
   ]
  },
  {
   "cell_type": "code",
   "execution_count": 24,
   "metadata": {},
   "outputs": [
    {
     "data": {
      "text/plain": [
       "Text(0.5,1,'Projetos com maior numero de peças')"
      ]
     },
     "execution_count": 24,
     "metadata": {},
     "output_type": "execute_result"
    },
    {
     "data": {
      "image/png": "[encoded data removed]",
      "text/plain": [
       "<matplotlib.figure.Figure at 0x15516690>"
      ]
     },
     "metadata": {},
     "output_type": "display_data"
    }
   ],
   "source": [
    "arquivo.query('ENTREGA == \"NOK\"')['P.O.:'].value_counts().sort_values().tail(10).plot(kind='barh',figsize=(10,10))\n",
    "plt.title('Projetos com maior numero de peças')"
   ]
  },
  {
   "cell_type": "code",
   "execution_count": 5,
   "metadata": {},
   "outputs": [
    {
     "name": "stdout",
     "output_type": "stream",
     "text": [
      "HORAS DE TORNO\n",
      "526.45\n",
      "O torno está ocupado por um total de 65 dias\n"
     ]
    }
   ],
   "source": [
    "print('HORAS DE TORNO')\n",
    "print(arquivo.query('ENTREGA == \"NOK\"')['TORNO'].sum()/60)\n",
    "totalt=(arquivo.query('ENTREGA == \"NOK\"')['TORNO'].sum()/60)/8\n",
    "print(f'O torno está ocupado por um total de {int(totalt)} dias')"
   ]
  },
  {
   "cell_type": "code",
   "execution_count": 6,
   "metadata": {},
   "outputs": [
    {
     "name": "stdout",
     "output_type": "stream",
     "text": [
      "HORAS DE FRESA\n",
      "A fresadora está ocupado por um total de 90 dias\n"
     ]
    }
   ],
   "source": [
    "print('HORAS DE FRESA')\n",
    "arquivo.query('ENTREGA == \"NOK\"')['FRESA'].sum()/60\n",
    "totalf=(arquivo.query('ENTREGA == \"NOK\"')['FRESA'].sum()/60)/8\n",
    "print(f'A fresadora está ocupado por um total de {int(totalf)} dias')"
   ]
  },
  {
   "cell_type": "code",
   "execution_count": 7,
   "metadata": {},
   "outputs": [
    {
     "name": "stdout",
     "output_type": "stream",
     "text": [
      "HORAS DE PROGRAMAÇÃO\n",
      "A programação está ocupado por um total de 48 dias\n"
     ]
    }
   ],
   "source": [
    "print('HORAS DE PROGRAMAÇÃO')\n",
    "arquivo.query('ENTREGA == \"NOK\"')['PROG.'].sum()/60\n",
    "totalp=(arquivo.query('ENTREGA == \"NOK\"')['PROG.'].sum()/60)/8\n",
    "print(f'A programação está ocupado por um total de {int(totalp)} dias')"
   ]
  },
  {
   "cell_type": "code",
   "execution_count": 8,
   "metadata": {},
   "outputs": [
    {
     "name": "stdout",
     "output_type": "stream",
     "text": [
      "HORAS DE AJUSTAGEM\n",
      "A Ajustagem está ocupado por um total de 44 dias\n"
     ]
    }
   ],
   "source": [
    "print('HORAS DE AJUSTAGEM')\n",
    "arquivo.query('ENTREGA == \"NOK\"')['AJUST'].sum()/60\n",
    "totala=(arquivo.query('ENTREGA == \"NOK\"')['AJUST'].sum()/60)/8\n",
    "print(f'A Ajustagem está ocupado por um total de {int(totala)} dias')"
   ]
  },
  {
   "cell_type": "code",
   "execution_count": 9,
   "metadata": {},
   "outputs": [
    {
     "name": "stdout",
     "output_type": "stream",
     "text": [
      "HORAS DE CTX\n",
      "A CTX está ocupado por um total de 2 dias\n"
     ]
    }
   ],
   "source": [
    "print('HORAS DE CTX')\n",
    "arquivo.query('ENTREGA == \"NOK\"')['CTX'].sum()/60\n",
    "totalc=(arquivo.query('ENTREGA == \"NOK\"')['CTX'].sum()/60)/8\n",
    "print(f'A CTX está ocupado por um total de {int(totalc)} dias')"
   ]
  },
  {
   "cell_type": "code",
   "execution_count": 10,
   "metadata": {},
   "outputs": [
    {
     "name": "stdout",
     "output_type": "stream",
     "text": [
      "HORAS DE SOLDA\n",
      "A Solda está ocupado por um total de 21 dias\n"
     ]
    }
   ],
   "source": [
    "print('HORAS DE SOLDA')\n",
    "arquivo.query('ENTREGA == \"NOK\"')['SOLDA'].sum()/60\n",
    "totals=(arquivo.query('ENTREGA == \"NOK\"')['SOLDA'].sum()/60)/8\n",
    "print(f'A Solda está ocupado por um total de {int(totals)} dias')"
   ]
  },
  {
   "cell_type": "code",
   "execution_count": 11,
   "metadata": {},
   "outputs": [
    {
     "name": "stdout",
     "output_type": "stream",
     "text": [
      "HORAS DE TRATAMENTO SUPERFICIAL\n",
      "O tratamento superficial está ocupado por um total de 3 dias\n"
     ]
    }
   ],
   "source": [
    "print('HORAS DE TRATAMENTO SUPERFICIAL')\n",
    "arquivo.query('ENTREGA == \"NOK\"')['T. SUP'].sum()/60\n",
    "totalts=(arquivo.query('ENTREGA == \"NOK\"')['T. SUP'].sum()/60)/8\n",
    "print(f'O tratamento superficial está ocupado por um total de {int(totalts)} dias')"
   ]
  },
  {
   "cell_type": "code",
   "execution_count": 12,
   "metadata": {},
   "outputs": [
    {
     "name": "stdout",
     "output_type": "stream",
     "text": [
      "HORAS DE MATÉRIA PRIMA\n",
      "A preparação de matéria prima está ocupado por um total de 22 dias\n"
     ]
    }
   ],
   "source": [
    "print('HORAS DE MATÉRIA PRIMA')\n",
    "arquivo.query('ENTREGA == \"NOK\"')['MP'].sum()/60\n",
    "totalm=(arquivo.query('ENTREGA == \"NOK\"')['MP'].sum()/60)/8\n",
    "print(f'A preparação de matéria prima está ocupado por um total de {int(totalm)} dias')"
   ]
  },
  {
   "cell_type": "code",
   "execution_count": 13,
   "metadata": {},
   "outputs": [
    {
     "name": "stdout",
     "output_type": "stream",
     "text": [
      "HORAS DE RETIFICA/AFIAÇÃO\n",
      "A Retificadora e afiadora está ocupado por um total de 3 dias\n"
     ]
    }
   ],
   "source": [
    "print('HORAS DE RETIFICA/AFIAÇÃO')\n",
    "arquivo.query('ENTREGA == \"NOK\"')['RETIF. / AFIA.'].sum()/60\n",
    "totalra=(arquivo.query('ENTREGA == \"NOK\"')['RETIF. / AFIA.'].sum()/60)/8\n",
    "print(f'A Retificadora e afiadora está ocupado por um total de {int(totalra)} dias')"
   ]
  },
  {
   "cell_type": "code",
   "execution_count": 14,
   "metadata": {},
   "outputs": [
    {
     "name": "stdout",
     "output_type": "stream",
     "text": [
      "HORAS DE PINTURA\n",
      "A Pintura está ocupado por um total de 8 dias\n"
     ]
    }
   ],
   "source": [
    "print('HORAS DE PINTURA')\n",
    "arquivo.query('ENTREGA == \"NOK\"')['PINT.'].sum()/60\n",
    "totalpi=(arquivo.query('ENTREGA == \"NOK\"')['PINT.'].sum()/60)/8\n",
    "print(f'A Pintura está ocupado por um total de {int(totalpi)} dias')"
   ]
  },
  {
   "cell_type": "code",
   "execution_count": 15,
   "metadata": {},
   "outputs": [
    {
     "name": "stdout",
     "output_type": "stream",
     "text": [
      "HORAS DE PROJETO\n",
      "O projeto está ocupado por um total de 26 dias\n"
     ]
    }
   ],
   "source": [
    "print('HORAS DE PROJETO')\n",
    "arquivo.query('ENTREGA == \"NOK\"')['PROJETO'].sum()/60\n",
    "totalpr=(arquivo.query('ENTREGA == \"NOK\"')['PROJETO'].sum()/60)/8\n",
    "print(f'O projeto está ocupado por um total de {int(totalpr)} dias')"
   ]
  },
  {
   "cell_type": "code",
   "execution_count": 16,
   "metadata": {},
   "outputs": [
    {
     "name": "stdout",
     "output_type": "stream",
     "text": [
      "HORAS DE INSPEÇÃO\n",
      "A Inspeção está ocupado por um total de 34 dias\n"
     ]
    }
   ],
   "source": [
    "print('HORAS DE INSPEÇÃO')\n",
    "arquivo.query('ENTREGA == \"NOK\"')['INSP'].sum()/60\n",
    "totalin=(arquivo.query('ENTREGA == \"NOK\"')['INSP'].sum()/60)/8\n",
    "print(f'A Inspeção está ocupado por um total de {int(totalin)} dias')"
   ]
  },
  {
   "cell_type": "code",
   "execution_count": 25,
   "metadata": {},
   "outputs": [
    {
     "data": {
      "text/plain": [
       "Text(0,0.5,'Dias')"
      ]
     },
     "execution_count": 25,
     "metadata": {},
     "output_type": "execute_result"
    },
    {
     "data": {
      "image/png": "[encoded data removed]",
      "text/plain": [
       "<matplotlib.figure.Figure at 0x155302b0>"
      ]
     },
     "metadata": {},
     "output_type": "display_data"
    }
   ],
   "source": [
    "a=(totalf,totalt,totalp,totala,totalc,totals,totalts,totalm,totalra,totalpi,totalpr,totalin)\n",
    "b=('Fresa','Torno','Prog','Ajust','CTX','Solda','T.S.','MP','Ret','Pint','Proj','Insp')\n",
    "plt.bar(b,a)\n",
    "plt.title('Dias ocupados')\n",
    "plt.xlabel('Máquinas')\n",
    "plt.ylabel('Dias')"
   ]
  },
  {
   "cell_type": "code",
   "execution_count": 18,
   "metadata": {},
   "outputs": [
    {
     "data": {
      "text/plain": [
       "Text(0,0.5,'Quantidade')"
      ]
     },
     "execution_count": 18,
     "metadata": {},
     "output_type": "execute_result"
    },
    {
     "data": {
      "image/png": "[encoded data removed]",
      "text/plain": [
       "<matplotlib.figure.Figure at 0x1536f610>"
      ]
     },
     "metadata": {},
     "output_type": "display_data"
    }
   ],
   "source": [
    "s=arquivo.query('ENTREGA == \"NOK\"')['LEAD TIME'].value_counts().keys()\n",
    "\n",
    "k={}\n",
    "for lead,quant in arquivo.query('ENTREGA == \"NOK\"')['LEAD TIME'].value_counts().items():\n",
    "    k[lead]=quant\n",
    "h=[]\n",
    "j=[]\n",
    "c=0\n",
    "for x in sorted(k):\n",
    "    h.append(x)\n",
    "    j.append(k[x])\n",
    "    if x<1:\n",
    "        c+=1\n",
    "\n",
    "       \n",
    "e=h[:c]\n",
    "r=j[:c]\n",
    "\n",
    "plt.bar(e,r,color='red')\n",
    "plt.title('Quantidade de peças atrasadas')\n",
    "plt.xlabel('Lead Time')\n",
    "plt.ylabel('Quantidade')\n"
   ]
  },
  {
   "cell_type": "code",
   "execution_count": 26,
   "metadata": {},
   "outputs": [
    {
     "data": {
      "text/plain": [
       "Text(0.5,1,'Projetos com maior numero de peças')"
      ]
     },
     "execution_count": 26,
     "metadata": {},
     "output_type": "execute_result"
    },
    {
     "data": {
      "image/png": "[encoded data removed]",
      "text/plain": [
       "<matplotlib.figure.Figure at 0x1531ae70>"
      ]
     },
     "metadata": {},
     "output_type": "display_data"
    }
   ],
   "source": [
    "arquivo.query('ENTREGA == \"OK\"')['P.O.:'].value_counts().sort_values().tail(10).plot(kind='barh',figsize=(5,5))\n",
    "plt.title('Projetos com maior numero de peças')"
   ]
  }
 ],
 "metadata": {
  "kernelspec": {
   "display_name": "Python 3",
   "language": "python",
   "name": "python3"
  },
  "language_info": {
   "codemirror_mode": {
    "name": "ipython",
    "version": 3
   },
   "file_extension": ".py",
   "mimetype": "text/x-python",
   "name": "python",
   "nbconvert_exporter": "python",
   "pygments_lexer": "ipython3",
   "version": "3.6.4"
  }
 },
 "nbformat": 4,
 "nbformat_minor": 2
}
